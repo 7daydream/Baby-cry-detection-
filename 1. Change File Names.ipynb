{
 "cells": [
  {
   "cell_type": "markdown",
   "metadata": {},
   "source": [
    "# Changing the classes/filenames in ESC-50 dataset :"
   ]
  },
  {
   "cell_type": "markdown",
   "metadata": {},
   "source": [
    "### Start off by selecting all the files and since the class 20 is baby crying, make seperate class for it versus all."
   ]
  },
  {
   "cell_type": "code",
   "execution_count": 1,
   "metadata": {},
   "outputs": [],
   "source": [
    "directory = \"data/\""
   ]
  },
  {
   "cell_type": "code",
   "execution_count": 18,
   "metadata": {},
   "outputs": [
    {
     "name": "stdout",
     "output_type": "stream",
     "text": [
      "4-185575-B-20.wav\n",
      "1-211527-A-20.wav\n",
      "2-50665-A-20.wav\n",
      "3-152007-C-20.wav\n",
      "5-198411-G-20.wav\n",
      "5-198411-B-20.wav\n",
      "2-50666-A-20.wav\n",
      "3-152007-D-20.wav\n",
      "3-151081-A-20.wav\n",
      "1-22694-A-20.wav\n",
      "3-152007-B-20.wav\n",
      "2-107351-A-20.wav\n",
      "2-80482-A-20.wav\n",
      "1-60997-A-20.wav\n",
      "5-198411-D-20.wav\n",
      "5-198411-C-20.wav\n",
      "3-152007-A-20.wav\n",
      "5-198411-E-20.wav\n",
      "1-60997-B-20.wav\n",
      "1-211527-C-20.wav\n",
      "1_baby\n",
      "Error : Destination path '/home/yash/Desktop/DCN/audio-classification/data/0_all_other_sounds/all_other_1194.wav/1_baby' already exists\n",
      "4-167077-A-20.wav\n",
      "4-167077-B-20.wav\n",
      "1-211527-B-20.wav\n",
      "0_all_other_sounds\n",
      "Error : Cannot move a directory '/home/yash/Desktop/DCN/audio-classification/data/0_all_other_sounds' into itself '/home/yash/Desktop/DCN/audio-classification/data/0_all_other_sounds/all_other_1309.wav'.\n",
      "2-66637-B-20.wav\n",
      "4-185575-A-20.wav\n",
      "3-151080-A-20.wav\n",
      "1-22694-B-20.wav\n",
      "3-152007-E-20.wav\n",
      "5-198411-F-20.wav\n",
      "3-151081-B-20.wav\n",
      "1-187207-A-20.wav\n",
      "5-151085-A-20.wav\n",
      "4-59579-A-20.wav\n",
      "2-151079-A-20.wav\n",
      "2-107351-B-20.wav\n",
      "4-167077-C-20.wav\n",
      "4-185575-C-20.wav\n",
      "4-59579-B-20.wav\n",
      "5-198411-A-20.wav\n",
      "2-66637-A-20.wav\n",
      "No. of baby cries 40\n",
      "No. of non baby cries 1962\n"
     ]
    }
   ],
   "source": [
    "import os\n",
    "import shutil\n",
    "count_0 = 0\n",
    "count_1 = 0\n",
    "for filename in os.listdir(directory):\n",
    "    if (filename[-3:] != \"wav\"):\n",
    "        print filename\n",
    "        continue\n",
    "    if (filename[-6:-4]==\"20\"):\n",
    "        count_1 += 1\n",
    "        print filename\n",
    "        try :\n",
    "            shutil.move(\"/home/yash/Desktop/DCN/audio-classification/data/\" + filename, \"/home/yash/Desktop/DCN/audio-classification/data/1_baby/baby_cries_\" + str(count_1) + \".wav\")\n",
    "            #print \"Success\"\n",
    "        except Exception as e:\n",
    "            print(\"Error : \" + str(e))\n",
    "    else :\n",
    "        count_0 += 1\n",
    "        try :\n",
    "            shutil.move(\"/home/yash/Desktop/DCN/audio-classification/data/\" + filename, \"/home/yash/Desktop/DCN/audio-classification/data/0_all_other_sounds/all_other_\" + str(count_0) + \".wav\")\n",
    "            #print \"Success\"\n",
    "        except Exception as e:\n",
    "            print(\"Error : \" + str(e))\n",
    "print \"No. of baby cries \" + str(count_1)\n",
    "print \"No. of non baby cries \" + str(count_0)\n"
   ]
  },
  {
   "cell_type": "code",
   "execution_count": null,
   "metadata": {},
   "outputs": [],
   "source": []
  }
 ],
 "metadata": {
  "kernelspec": {
   "display_name": "Python 2",
   "language": "python",
   "name": "python2"
  },
  "language_info": {
   "codemirror_mode": {
    "name": "ipython",
    "version": 2
   },
   "file_extension": ".py",
   "mimetype": "text/x-python",
   "name": "python",
   "nbconvert_exporter": "python",
   "pygments_lexer": "ipython2",
   "version": "2.7.12"
  }
 },
 "nbformat": 4,
 "nbformat_minor": 2
}
